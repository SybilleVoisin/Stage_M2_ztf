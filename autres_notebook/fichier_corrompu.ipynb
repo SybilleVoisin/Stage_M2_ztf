{
 "cells": [
  {
   "cell_type": "markdown",
   "id": "e3d95396-94b2-45b5-b8fd-4aaebef147b0",
   "metadata": {},
   "source": [
    "## Vérifier si un fichier est corrompu et trouver lequel"
   ]
  },
  {
   "cell_type": "code",
   "execution_count": 1,
   "id": "cd0aae75-cd14-49f2-958c-776f80df8a10",
   "metadata": {},
   "outputs": [],
   "source": [
    "import ztfimg\n",
    "qimg = ztfimg.ScienceQuadrant.from_filename(\"/sps/ztf/data/sci/2020/0924/431759/ztf_20200924431759_000655_zr_c13_o_q3_sciimg.fits\")"
   ]
  },
  {
   "cell_type": "code",
   "execution_count": 2,
   "id": "7b8644f7-20e8-4d51-8cad-b5bc8cab24b2",
   "metadata": {},
   "outputs": [
    {
     "name": "stderr",
     "output_type": "stream",
     "text": [
      "/pbs/throng/ztf/anaconda3/envs/zenv11/lib/python3.11/site-packages/distributed/node.py:182: UserWarning: Port 8787 is already in use.\n",
      "Perhaps you already have a cluster running?\n",
      "Hosting the HTTP server on port 36150 instead\n",
      "  warnings.warn(\n"
     ]
    }
   ],
   "source": [
    "import dask\n",
    "from dask.distributed import Client\n",
    "client = Client()"
   ]
  },
  {
   "cell_type": "code",
   "execution_count": 3,
   "id": "1da5c772-aa2e-4119-8799-50a5a4688d75",
   "metadata": {},
   "outputs": [],
   "source": [
    "fp = qimg.get_focalplane(use_dask=True) "
   ]
  },
  {
   "cell_type": "code",
   "execution_count": 4,
   "id": "7fc62942-3d78-4146-b71c-01d8ec83021e",
   "metadata": {},
   "outputs": [
    {
     "name": "stderr",
     "output_type": "stream",
     "text": [
      "/pbs/throng/ztf/anaconda3/envs/zenv11/lib/python3.11/site-packages/ztfimg/base.py:858: UserWarning: compute of a collection is not optimal yet. Loops over images to call their compute.\n",
      "  warnings.warn(\"compute of a collection is not optimal yet. Loops over images to call their compute.\")\n"
     ]
    }
   ],
   "source": [
    "d=fp.get_ccd(1).compute()"
   ]
  },
  {
   "cell_type": "code",
   "execution_count": 5,
   "id": "1f4fc040-90f3-4248-bb37-c9c68c5dd5d1",
   "metadata": {},
   "outputs": [],
   "source": [
    "dq=fp.get_ccd(8).get_quadrant(4).compute()"
   ]
  },
  {
   "cell_type": "code",
   "execution_count": 6,
   "id": "e8bed82c-e828-4a28-a33a-a3a383fe4a78",
   "metadata": {},
   "outputs": [
    {
     "data": {
      "text/plain": [
       "31"
      ]
     },
     "execution_count": 6,
     "metadata": {},
     "output_type": "execute_result"
    }
   ],
   "source": [
    "ztfimg.ccdid_qid_to_rcid(8,4)"
   ]
  },
  {
   "cell_type": "code",
   "execution_count": 7,
   "id": "250ca41a-156d-4550-8cdc-bd7881c4f035",
   "metadata": {},
   "outputs": [],
   "source": [
    "q31=fp.get_quadrant(31)"
   ]
  },
  {
   "cell_type": "code",
   "execution_count": 8,
   "id": "15fbb4a1-c03f-43b7-b29c-6a606ad0aaab",
   "metadata": {},
   "outputs": [],
   "source": [
    "import ztfquery"
   ]
  },
  {
   "cell_type": "code",
   "execution_count": 9,
   "id": "59980ebd-e5ed-4233-934e-e402717c5bd8",
   "metadata": {},
   "outputs": [
    {
     "data": {
      "text/plain": [
       "'/sps/ztf/data/sci/2020/0924/431759/ztf_20200924431759_000655_zr_c08_o_q4_mskimg.fits'"
      ]
     },
     "execution_count": 9,
     "metadata": {},
     "output_type": "execute_result"
    }
   ],
   "source": [
    "ztfquery.get_file(q31.filename, suffix=\"mskimg.fits\") \n",
    "#cherche fichier, s'il le trouve il l'ouvre si il peut l'ouvrir donne le chemin\n",
    "#s'il ne trouve pas, télécharge le fichier\n",
    "#s'il ne peut pas l'ouvrir, retélécharge le fichier"
   ]
  },
  {
   "cell_type": "code",
   "execution_count": null,
   "id": "935b9645-c77a-4dc8-b1b8-947355ccbce0",
   "metadata": {},
   "outputs": [],
   "source": []
  },
  {
   "cell_type": "code",
   "execution_count": null,
   "id": "5c8e59e1-e40c-4767-8423-3a15d7422cab",
   "metadata": {},
   "outputs": [],
   "source": []
  }
 ],
 "metadata": {
  "kernelspec": {
   "display_name": "ZTF - zenv11",
   "language": "python",
   "name": "ztf_zenv11"
  },
  "language_info": {
   "codemirror_mode": {
    "name": "ipython",
    "version": 3
   },
   "file_extension": ".py",
   "mimetype": "text/x-python",
   "name": "python",
   "nbconvert_exporter": "python",
   "pygments_lexer": "ipython3",
   "version": "3.11.5"
  }
 },
 "nbformat": 4,
 "nbformat_minor": 5
}
